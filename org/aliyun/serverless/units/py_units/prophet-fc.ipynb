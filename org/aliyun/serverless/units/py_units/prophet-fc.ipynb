{
 "cells": [
  {
   "cell_type": "code",
   "execution_count": 1,
   "metadata": {
    "collapsed": true,
    "ExecuteTime": {
     "end_time": "2023-08-03T06:59:31.299339Z",
     "start_time": "2023-08-03T06:59:31.023654Z"
    }
   },
   "outputs": [
    {
     "name": "stderr",
     "output_type": "stream",
     "text": [
      "Importing plotly failed. Interactive plots will not work.\n"
     ]
    }
   ],
   "source": [
    "import pandas as pd\n",
    "from pandas import to_datetime\n",
    "\n",
    "from prophet import Prophet\n",
    "import matplotlib.pyplot as plt\n",
    "import numpy as np\n",
    "\n",
    "from sklearn.metrics import mean_squared_error\n",
    "from sklearn.model_selection import train_test_split\n",
    "\n",
    "roles1_assign_path = '/Users/yeyuan/Desktop/dataSet_1/roles1_assign_25015.txt'\n",
    "\n",
    "roles1_assgin_model = Prophet(\n",
    "                            changepoint_prior_scale=0.05, # 跟随性, 越大越过拟合, default 0.05\n",
    "                            n_changepoints=2000, # 转折点个数, default 25\n",
    "                            interval_width=0.2, # 置信区间, 值越小, 上下线的带宽越小\n",
    "                            growth='linear', # 'linear', 'logistic', default 'linear'\n",
    "                            changepoint_range=0.9, # 0.8 默认从数据的前 80% 中寻找转折点\n",
    "                            seasonality_mode='multiplicative', # 'additive', 'multiplicative'\n",
    "                            seasonality_prior_scale=10, # 季节性, 越大越过拟合, default 10\n",
    "                            )"
   ]
  },
  {
   "cell_type": "code",
   "execution_count": 2,
   "outputs": [
    {
     "name": "stdout",
     "output_type": "stream",
     "text": [
      "                     0  1\n",
      "0  2023-08-02 00:00:00  0\n",
      "1  2023-08-02 00:00:26  0\n",
      "2  2023-08-02 00:00:52  0\n",
      "3  2023-08-02 00:01:18  0\n",
      "4  2023-08-02 00:01:44  0\n",
      "5  2023-08-02 00:02:10  0\n",
      "6  2023-08-02 00:02:36  0\n",
      "7  2023-08-02 00:03:02  0\n",
      "8  2023-08-02 00:03:28  0\n",
      "9  2023-08-02 00:03:54  0\n"
     ]
    }
   ],
   "source": [
    "# 读取 roles1_assign 数据\n",
    "roles1_assign_df = pd.read_csv(roles1_assign_path, header=None ,sep=',')\n",
    "\n",
    "print(roles1_assign_df.head(n=10))\n",
    "roles1_assign_df.columns = ['ds', 'y']\n",
    "# 对y列使用math.log1p()进行变换\n",
    "roles1_assign_df['y'] = np.log1p(roles1_assign_df['y'])\n",
    "roles1_assign_df['ds'] = to_datetime(roles1_assign_df['ds'])\n",
    "\n",
    "train, test = train_test_split(roles1_assign_df, test_size=0.2, shuffle=False)"
   ],
   "metadata": {
    "collapsed": false,
    "ExecuteTime": {
     "end_time": "2023-08-03T06:59:50.712117Z",
     "start_time": "2023-08-03T06:59:50.667623Z"
    }
   }
  },
  {
   "cell_type": "code",
   "execution_count": 3,
   "outputs": [
    {
     "name": "stderr",
     "output_type": "stream",
     "text": [
      "14:59:56 - cmdstanpy - INFO - Chain [1] start processing\n",
      "15:11:53 - cmdstanpy - INFO - Chain [1] done processing\n"
     ]
    },
    {
     "data": {
      "text/plain": "<prophet.forecaster.Prophet at 0x12e4e1550>"
     },
     "execution_count": 3,
     "metadata": {},
     "output_type": "execute_result"
    }
   ],
   "source": [
    "roles1_assgin_model.fit(train)"
   ],
   "metadata": {
    "collapsed": false,
    "ExecuteTime": {
     "end_time": "2023-08-03T07:11:53.288462Z",
     "start_time": "2023-08-03T06:59:55.662124Z"
    }
   }
  },
  {
   "cell_type": "markdown",
   "source": [
    "### 预测全样本"
   ],
   "metadata": {
    "collapsed": false
   }
  },
  {
   "cell_type": "code",
   "execution_count": null,
   "outputs": [],
   "source": [
    "y_pred = roles1_assgin_model.predict(roles1_assign_df)\n",
    "y_true = roles1_assign_df['y'].values\n",
    "y_pred = y_pred['yhat'].values\n",
    "mse = mean_squared_error(y_true, y_pred)\n",
    "print('MSE: ', mse)\n",
    "plt.plot(y_true, label='All Actual')\n",
    "plt.plot(y_pred, label='All Predicted')\n",
    "plt.legend()\n",
    "plt.show()"
   ],
   "metadata": {
    "collapsed": false
   }
  },
  {
   "cell_type": "markdown",
   "source": [
    "### 预测train数据"
   ],
   "metadata": {
    "collapsed": false
   }
  },
  {
   "cell_type": "code",
   "execution_count": null,
   "outputs": [],
   "source": [
    "y_train_pred = roles1_assgin_model.predict(train)\n",
    "y_train_true = train['y'].values\n",
    "y_train_pred = y_train_pred['yhat'].values\n",
    "mse = mean_squared_error(y_train_true, y_train_pred)\n",
    "print('y_train_pred\\n', y_train_pred[:10])\n",
    "print('Train MSE: ', mse)\n",
    "plt.plot(y_train_true, label='Train Actual')\n",
    "plt.plot(y_train_pred, label='Train Predicted')\n",
    "plt.legend()\n",
    "plt.show()"
   ],
   "metadata": {
    "collapsed": false
   }
  },
  {
   "cell_type": "markdown",
   "source": [
    "### 预测test数据"
   ],
   "metadata": {
    "collapsed": false
   }
  },
  {
   "cell_type": "code",
   "execution_count": null,
   "outputs": [],
   "source": [
    "y_test_pred = roles1_assgin_model.predict(test)\n",
    "y_test_true = test['y'].values\n",
    "y_test_pred = y_test_pred['yhat'].values\n",
    "mse = mean_squared_error(y_test_true, y_test_pred)\n",
    "print('Test MSE: ', mse)\n",
    "plt.plot(y_test_true, label='Test Actual')\n",
    "plt.plot(y_test_pred, label='Test Predicted')\n",
    "plt.legend()\n",
    "plt.show()"
   ],
   "metadata": {
    "collapsed": false
   }
  }
 ],
 "metadata": {
  "kernelspec": {
   "display_name": "Python 3",
   "language": "python",
   "name": "python3"
  },
  "language_info": {
   "codemirror_mode": {
    "name": "ipython",
    "version": 2
   },
   "file_extension": ".py",
   "mimetype": "text/x-python",
   "name": "python",
   "nbconvert_exporter": "python",
   "pygments_lexer": "ipython2",
   "version": "2.7.6"
  }
 },
 "nbformat": 4,
 "nbformat_minor": 0
}
